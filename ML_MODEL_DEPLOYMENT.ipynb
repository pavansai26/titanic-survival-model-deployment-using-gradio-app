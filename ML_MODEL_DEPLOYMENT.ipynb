{
  "nbformat": 4,
  "nbformat_minor": 0,
  "metadata": {
    "colab": {
      "name": "ML MODEL DEPLOYMENT.ipynb",
      "provenance": [],
      "private_outputs": true,
      "authorship_tag": "ABX9TyMTL3qifcTU8Xw+5Sv9ySeG",
      "include_colab_link": true
    },
    "kernelspec": {
      "name": "python3",
      "display_name": "Python 3"
    }
  },
  "cells": [
    {
      "cell_type": "markdown",
      "metadata": {
        "id": "view-in-github",
        "colab_type": "text"
      },
      "source": [
        "<a href=\"https://colab.research.google.com/github/pavansai26/titanic-survival-model-deployment-using-gradio-app/blob/master/ML_MODEL_DEPLOYMENT.ipynb\" target=\"_parent\"><img src=\"https://colab.research.google.com/assets/colab-badge.svg\" alt=\"Open In Colab\"/></a>"
      ]
    },
    {
      "cell_type": "code",
      "metadata": {
        "id": "lKKjOmWWt2_I",
        "colab_type": "code",
        "colab": {}
      },
      "source": [
        "!pip install -q gradio "
      ],
      "execution_count": null,
      "outputs": []
    },
    {
      "cell_type": "code",
      "metadata": {
        "id": "nZxWGLKrwORb",
        "colab_type": "code",
        "colab": {}
      },
      "source": [
        "import gradio as gr\n",
        "import pandas as pd\n",
        "import numpy as np\n",
        "import sklearn\n",
        "from sklearn import preprocessing\n",
        "from sklearn.model_selection import train_test_split\n",
        "from sklearn.ensemble import RandomForestClassifier\n",
        "from sklearn.metrics import accuracy_score"
      ],
      "execution_count": null,
      "outputs": []
    },
    {
      "cell_type": "markdown",
      "metadata": {
        "id": "-B3JvsDdwkfy",
        "colab_type": "text"
      },
      "source": [
        "Create preprocessing functions and train the model"
      ]
    },
    {
      "cell_type": "code",
      "metadata": {
        "id": "y6CJaWqBwONh",
        "colab_type": "code",
        "colab": {}
      },
      "source": [
        "def encode_ages(df): # Binning ages \n",
        "    df.Age = df.Age.fillna(-0.5)\n",
        "    bins = (-1, 0, 5, 12, 18, 25, 35, 60, 120)\n",
        "    categories = pd.cut(df.Age, bins, labels=False)\n",
        "    df.Age = categories\n",
        "    return df\n",
        "\n",
        "def encode_fares(df): # Binning fares\n",
        "    df.Fare = df.Fare.fillna(-0.5)\n",
        "    bins = (-1, 0, 8, 15, 31, 1000)\n",
        "    categories = pd.cut(df.Fare, bins, labels=False)\n",
        "    df.Fare = categories\n",
        "    return df\n",
        "\n",
        "def encode_sex(df):\n",
        "    mapping = {\"male\": 0, \"female\": 1}\n",
        "    return df.replace({'Sex': mapping})"
      ],
      "execution_count": null,
      "outputs": []
    },
    {
      "cell_type": "markdown",
      "metadata": {
        "id": "CLTM5bwTw7GX",
        "colab_type": "text"
      },
      "source": [
        "1)Use cut when you need to segment and sort data values into bins. \n",
        "\n",
        "2)cut could convert ages to groups of age ranges.\n",
        "\n",
        "3)The cut() function works only on one-dimensional array-like objects."
      ]
    },
    {
      "cell_type": "code",
      "metadata": {
        "id": "6LwXBLGdwOJe",
        "colab_type": "code",
        "colab": {}
      },
      "source": [
        "import warnings\n",
        "warnings.filterwarnings('ignore')\n",
        "\n",
        "data = pd.read_csv('https://raw.githubusercontent.com/gradio-app/titanic/master/train.csv')\n",
        "\n",
        "def transform_features(df):\n",
        "    df = encode_ages(df)\n",
        "    df = encode_fares(df)\n",
        "    df = encode_sex(df)\n",
        "    return df\n",
        "\n",
        "train = data[['PassengerId', 'Fare', 'Age', 'Sex', 'Survived']]\n",
        "train = transform_features(train)\n",
        "\n",
        "\n",
        "X_all = train.drop(['Survived', 'PassengerId'], axis=1)\n",
        "y_all = train['Survived']\n",
        "\n",
        "num_test = 0.20\n",
        "X_train, X_test, y_train, y_test = train_test_split(X_all, y_all, test_size=num_test, random_state=23)\n",
        "\n",
        "clf = RandomForestClassifier()\n",
        "clf.fit(X_train, y_train)\n",
        "predictions = clf.predict(X_test)\n",
        "print(\"accuracy: \", accuracy_score(y_test, predictions))"
      ],
      "execution_count": null,
      "outputs": []
    },
    {
      "cell_type": "markdown",
      "metadata": {
        "id": "y65Q_w4ryCt8",
        "colab_type": "text"
      },
      "source": [
        "Write a prediction function"
      ]
    },
    {
      "cell_type": "code",
      "metadata": {
        "id": "im5wcryuwN-E",
        "colab_type": "code",
        "colab": {}
      },
      "source": [
        "def predict_survival(sex, age, fare):\n",
        "    df = pd.DataFrame.from_dict({'Sex': [sex], 'Age': [age], 'Fare': [fare]})\n",
        "    df = encode_sex(df)\n",
        "    df = encode_fares(df)\n",
        "    df = encode_ages(df)\n",
        "    pred = clf.predict_proba(df)[0]\n",
        "    return {'Perishes': pred[0], 'Survives': pred[1]}"
      ],
      "execution_count": null,
      "outputs": []
    },
    {
      "cell_type": "markdown",
      "metadata": {
        "id": "XP0Gx6LIyV64",
        "colab_type": "text"
      },
      "source": [
        "Build a shareable UI in 4 lines of code!"
      ]
    },
    {
      "cell_type": "code",
      "metadata": {
        "id": "gWlaCGlFyKrs",
        "colab_type": "code",
        "colab": {}
      },
      "source": [
        "sex = gr.inputs.Radio(['female', 'male'], label=\"Sex\")\n",
        "age = gr.inputs.Slider(minimum=0, maximum=120, default=22, label=\"Age\")\n",
        "fare = gr.inputs.Slider(minimum=0, maximum=1000, default=100, label=\"Fare (british pounds)\")\n",
        "\n",
        "gr.Interface(predict_survival, [sex, age, fare], \"label\", live=True).launch();"
      ],
      "execution_count": null,
      "outputs": []
    },
    {
      "cell_type": "code",
      "metadata": {
        "id": "OHxdd-8hyZ9E",
        "colab_type": "code",
        "colab": {}
      },
      "source": [
        ""
      ],
      "execution_count": null,
      "outputs": []
    }
  ]
}